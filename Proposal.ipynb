{
 "cells": [
  {
   "cell_type": "markdown",
   "metadata": {},
   "source": [
    "# Proposal for Starbucks Capstone Project"
   ]
  },
  {
   "cell_type": "markdown",
   "metadata": {},
   "source": [
    "## Domain Background"
   ]
  },
  {
   "cell_type": "markdown",
   "metadata": {},
   "source": [
    "Starbucks, an American Coffee Company, which offers discount to mobile users who purchase items through the mobile app.\n",
    "\n",
    "As a retail company that sells products to its consumers, increasing sales would be a major concern for them, and as a businesses look forward to increasing sales and revenue every year, establishing means to help with this using technology would be at the top of their list.\n",
    "\n",
    "Using a simplified version of the real Starbucks app based on a simulator we seek to be able to determine demographic groups of consumers and also how they best respond to offers."
   ]
  },
  {
   "cell_type": "markdown",
   "metadata": {},
   "source": [
    "## Problem Statement"
   ]
  },
  {
   "cell_type": "markdown",
   "metadata": {},
   "source": [
    "The goal of this project is to determine among demographic groups what **offer** they best respond to.\n",
    "\n",
    "> An **offer** is an advertisement for a drink or an actual offer such as a Buy One Get One Free or a discount sent to users to spike interest in the product.\n",
    "\n",
    "This problem has previously been tackled as a \n",
    "\n",
    "I chose this problem to tackle because I believe a major concern for a business is to increase revenue while at minimal cost.\n",
    "\n",
    "For a business such as starbucks, offering discounts to people who do not need it, can count as a wasted opportunity.\n",
    "\n",
    "A potential solution would be using data gotten on demographics and transactions conducted by consumers of starbucks products and building a model to determine what offer to offer to specific consumers.\n",
    "\n",
    "Framing this problem as classification problem (multi-classification), I believe this is a suitable approach for this problem.\n",
    "\n",
    "Identifying what **offer** a consumer best responds to among all possible offers."
   ]
  },
  {
   "cell_type": "markdown",
   "metadata": {},
   "source": [
    "## Datasets and Input"
   ]
  },
  {
   "cell_type": "markdown",
   "metadata": {},
   "source": [
    "This data set contains simulated data that mimics customer behavior on the Starbucks rewards mobile app. Once every few days, Starbucks sends out an offer to users of the mobile app.\n"
   ]
  },
  {
   "cell_type": "markdown",
   "metadata": {},
   "source": [
    "### 1. profile.json\n",
    "This contains the demographic data for each customer.\n",
    "* age (int) - age of the customer \n",
    "* became_member_on (int) - date when customer created an app account\n",
    "* gender (str) - gender of the customer (note some entries contain 'O' for other rather than M or F)\n",
    "* id (str) - customer id\n",
    "* income (float) - customer's income"
   ]
  },
  {
   "cell_type": "code",
   "execution_count": 2,
   "metadata": {},
   "outputs": [
    {
     "data": {
      "text/html": [
       "<div>\n",
       "<style scoped>\n",
       "    .dataframe tbody tr th:only-of-type {\n",
       "        vertical-align: middle;\n",
       "    }\n",
       "\n",
       "    .dataframe tbody tr th {\n",
       "        vertical-align: top;\n",
       "    }\n",
       "\n",
       "    .dataframe thead th {\n",
       "        text-align: right;\n",
       "    }\n",
       "</style>\n",
       "<table border=\"1\" class=\"dataframe\">\n",
       "  <thead>\n",
       "    <tr style=\"text-align: right;\">\n",
       "      <th></th>\n",
       "      <th>age</th>\n",
       "      <th>became_member_on</th>\n",
       "      <th>gender</th>\n",
       "      <th>id</th>\n",
       "      <th>income</th>\n",
       "    </tr>\n",
       "  </thead>\n",
       "  <tbody>\n",
       "    <tr>\n",
       "      <th>0</th>\n",
       "      <td>118</td>\n",
       "      <td>20170212</td>\n",
       "      <td>None</td>\n",
       "      <td>68be06ca386d4c31939f3a4f0e3dd783</td>\n",
       "      <td>NaN</td>\n",
       "    </tr>\n",
       "  </tbody>\n",
       "</table>\n",
       "</div>"
      ],
      "text/plain": [
       "   age  became_member_on gender                                id  income\n",
       "0  118          20170212   None  68be06ca386d4c31939f3a4f0e3dd783     NaN"
      ]
     },
     "execution_count": 2,
     "metadata": {},
     "output_type": "execute_result"
    }
   ],
   "source": [
    "profile = pd.read_json('profile.json', orient='records', lines=True)\n",
    "profile.head(1)"
   ]
  },
  {
   "cell_type": "markdown",
   "metadata": {},
   "source": [
    "### 2. portfolio.json\n",
    "This contains offer ids and meta data about each offer (duration, type, etc.)\n"
   ]
  },
  {
   "cell_type": "code",
   "execution_count": 1,
   "metadata": {},
   "outputs": [
    {
     "data": {
      "text/html": [
       "<div>\n",
       "<style scoped>\n",
       "    .dataframe tbody tr th:only-of-type {\n",
       "        vertical-align: middle;\n",
       "    }\n",
       "\n",
       "    .dataframe tbody tr th {\n",
       "        vertical-align: top;\n",
       "    }\n",
       "\n",
       "    .dataframe thead th {\n",
       "        text-align: right;\n",
       "    }\n",
       "</style>\n",
       "<table border=\"1\" class=\"dataframe\">\n",
       "  <thead>\n",
       "    <tr style=\"text-align: right;\">\n",
       "      <th></th>\n",
       "      <th>channels</th>\n",
       "      <th>difficulty</th>\n",
       "      <th>duration</th>\n",
       "      <th>id</th>\n",
       "      <th>offer_type</th>\n",
       "      <th>reward</th>\n",
       "    </tr>\n",
       "  </thead>\n",
       "  <tbody>\n",
       "    <tr>\n",
       "      <th>0</th>\n",
       "      <td>[email, mobile, social]</td>\n",
       "      <td>10</td>\n",
       "      <td>7</td>\n",
       "      <td>ae264e3637204a6fb9bb56bc8210ddfd</td>\n",
       "      <td>bogo</td>\n",
       "      <td>10</td>\n",
       "    </tr>\n",
       "  </tbody>\n",
       "</table>\n",
       "</div>"
      ],
      "text/plain": [
       "                  channels  difficulty  duration  \\\n",
       "0  [email, mobile, social]          10         7   \n",
       "\n",
       "                                 id offer_type  reward  \n",
       "0  ae264e3637204a6fb9bb56bc8210ddfd       bogo      10  "
      ]
     },
     "execution_count": 1,
     "metadata": {},
     "output_type": "execute_result"
    }
   ],
   "source": [
    "import pandas as pd\n",
    "portfolio = pd.read_json('portfolio.json', orient='records', lines=True)\n",
    "portfolio.head(1)"
   ]
  },
  {
   "cell_type": "markdown",
   "metadata": {},
   "source": [
    "### 3. transcript.json\n",
    "This contains records for transactions, offers received, offers viewed, and offers completed"
   ]
  },
  {
   "cell_type": "code",
   "execution_count": 3,
   "metadata": {},
   "outputs": [
    {
     "data": {
      "text/html": [
       "<div>\n",
       "<style scoped>\n",
       "    .dataframe tbody tr th:only-of-type {\n",
       "        vertical-align: middle;\n",
       "    }\n",
       "\n",
       "    .dataframe tbody tr th {\n",
       "        vertical-align: top;\n",
       "    }\n",
       "\n",
       "    .dataframe thead th {\n",
       "        text-align: right;\n",
       "    }\n",
       "</style>\n",
       "<table border=\"1\" class=\"dataframe\">\n",
       "  <thead>\n",
       "    <tr style=\"text-align: right;\">\n",
       "      <th></th>\n",
       "      <th>event</th>\n",
       "      <th>person</th>\n",
       "      <th>time</th>\n",
       "      <th>value</th>\n",
       "    </tr>\n",
       "  </thead>\n",
       "  <tbody>\n",
       "    <tr>\n",
       "      <th>0</th>\n",
       "      <td>offer received</td>\n",
       "      <td>78afa995795e4d85b5d9ceeca43f5fef</td>\n",
       "      <td>0</td>\n",
       "      <td>{'offer id': '9b98b8c7a33c4b65b9aebfe6a799e6d9'}</td>\n",
       "    </tr>\n",
       "  </tbody>\n",
       "</table>\n",
       "</div>"
      ],
      "text/plain": [
       "            event                            person  time  \\\n",
       "0  offer received  78afa995795e4d85b5d9ceeca43f5fef     0   \n",
       "\n",
       "                                              value  \n",
       "0  {'offer id': '9b98b8c7a33c4b65b9aebfe6a799e6d9'}  "
      ]
     },
     "execution_count": 3,
     "metadata": {},
     "output_type": "execute_result"
    }
   ],
   "source": [
    "transcript = pd.read_json('transcript.json', orient='records', lines=True)\n",
    "transcript.head(1)"
   ]
  },
  {
   "cell_type": "code",
   "execution_count": 4,
   "metadata": {},
   "outputs": [
    {
     "data": {
      "text/html": [
       "<div>\n",
       "<style scoped>\n",
       "    .dataframe tbody tr th:only-of-type {\n",
       "        vertical-align: middle;\n",
       "    }\n",
       "\n",
       "    .dataframe tbody tr th {\n",
       "        vertical-align: top;\n",
       "    }\n",
       "\n",
       "    .dataframe thead th {\n",
       "        text-align: right;\n",
       "    }\n",
       "</style>\n",
       "<table border=\"1\" class=\"dataframe\">\n",
       "  <thead>\n",
       "    <tr style=\"text-align: right;\">\n",
       "      <th></th>\n",
       "      <th>event</th>\n",
       "      <th>person</th>\n",
       "      <th>time</th>\n",
       "      <th>offer_id</th>\n",
       "      <th>amount</th>\n",
       "    </tr>\n",
       "  </thead>\n",
       "  <tbody>\n",
       "    <tr>\n",
       "      <th>0</th>\n",
       "      <td>offer received</td>\n",
       "      <td>78afa995795e4d85b5d9ceeca43f5fef</td>\n",
       "      <td>0</td>\n",
       "      <td>9b98b8c7a33c4b65b9aebfe6a799e6d9</td>\n",
       "      <td>NaN</td>\n",
       "    </tr>\n",
       "  </tbody>\n",
       "</table>\n",
       "</div>"
      ],
      "text/plain": [
       "            event                            person  time  \\\n",
       "0  offer received  78afa995795e4d85b5d9ceeca43f5fef     0   \n",
       "\n",
       "                           offer_id  amount  \n",
       "0  9b98b8c7a33c4b65b9aebfe6a799e6d9     NaN  "
      ]
     },
     "execution_count": 4,
     "metadata": {},
     "output_type": "execute_result"
    }
   ],
   "source": [
    "# Merge the transcript dataframe with the portfolio dataframe (metadata of offers)\n",
    "transcript['offer_id'] = transcript['value'].apply(lambda value: value.get('offer id'))\n",
    "transcript['amount'] = transcript['value'].apply(lambda value: value.get('amount'))\n",
    "transcript.drop('value', axis=1, inplace=True)\n",
    "transcript.head(1)"
   ]
  },
  {
   "cell_type": "code",
   "execution_count": 5,
   "metadata": {},
   "outputs": [
    {
     "name": "stdout",
     "output_type": "stream",
     "text": [
      "306534 306534\n"
     ]
    },
    {
     "data": {
      "text/html": [
       "<div>\n",
       "<style scoped>\n",
       "    .dataframe tbody tr th:only-of-type {\n",
       "        vertical-align: middle;\n",
       "    }\n",
       "\n",
       "    .dataframe tbody tr th {\n",
       "        vertical-align: top;\n",
       "    }\n",
       "\n",
       "    .dataframe thead th {\n",
       "        text-align: right;\n",
       "    }\n",
       "</style>\n",
       "<table border=\"1\" class=\"dataframe\">\n",
       "  <thead>\n",
       "    <tr style=\"text-align: right;\">\n",
       "      <th></th>\n",
       "      <th>event</th>\n",
       "      <th>person</th>\n",
       "      <th>time</th>\n",
       "      <th>offer_id</th>\n",
       "      <th>amount</th>\n",
       "      <th>channels</th>\n",
       "      <th>difficulty</th>\n",
       "      <th>duration</th>\n",
       "      <th>offer_type</th>\n",
       "      <th>reward</th>\n",
       "    </tr>\n",
       "  </thead>\n",
       "  <tbody>\n",
       "    <tr>\n",
       "      <th>0</th>\n",
       "      <td>offer received</td>\n",
       "      <td>78afa995795e4d85b5d9ceeca43f5fef</td>\n",
       "      <td>0</td>\n",
       "      <td>9b98b8c7a33c4b65b9aebfe6a799e6d9</td>\n",
       "      <td>NaN</td>\n",
       "      <td>[web, email, mobile]</td>\n",
       "      <td>5.0</td>\n",
       "      <td>7.0</td>\n",
       "      <td>bogo</td>\n",
       "      <td>5.0</td>\n",
       "    </tr>\n",
       "  </tbody>\n",
       "</table>\n",
       "</div>"
      ],
      "text/plain": [
       "            event                            person  time  \\\n",
       "0  offer received  78afa995795e4d85b5d9ceeca43f5fef     0   \n",
       "\n",
       "                           offer_id  amount              channels  difficulty  \\\n",
       "0  9b98b8c7a33c4b65b9aebfe6a799e6d9     NaN  [web, email, mobile]         5.0   \n",
       "\n",
       "   duration offer_type  reward  \n",
       "0       7.0       bogo     5.0  "
      ]
     },
     "execution_count": 5,
     "metadata": {},
     "output_type": "execute_result"
    }
   ],
   "source": [
    "merged = transcript.merge(portfolio.rename(dict(id='offer_id'), axis=1), on='offer_id', how='left')\n",
    "print(merged.shape[0], transcript.shape[0])\n",
    "merged.head(1)"
   ]
  },
  {
   "cell_type": "markdown",
   "metadata": {},
   "source": [
    "The merged dataset (transcript and portfolio) contains \n",
    "\n",
    "* event (str) - record description (ie transaction, offer received, offer viewed, etc.)\n",
    "* person (str) - customer id\n",
    "* time (int) - time in hours since start of test. The data begins at time t=0\n",
    "* offer_id (string) - offer id\n",
    "* amount (string) - amount paid for product N.B when this did not include a promotional offer.\n",
    "* difficulty (int) - minimum required spend to complete an offer\n",
    "* duration (int) - time for offer to be open, in days\n",
    "* channels (list of strings)\n",
    "* offer_type (string) - type of offer ie BOGO, discount, informational, None. N.B None occurs when there is no offer indicated.\n",
    "* reward (int) - reward given for completing an offer\n"
   ]
  },
  {
   "cell_type": "markdown",
   "metadata": {},
   "source": [
    "\n",
    "\n",
    "Based on the information provided below we can see the dataset is imbalanced as 56% of our distribution already comes out as \"None\".\n",
    "\n",
    "Using a F1 metric helps to avoid been misled by the more dominant class. "
   ]
  },
  {
   "cell_type": "code",
   "execution_count": 6,
   "metadata": {},
   "outputs": [
    {
     "data": {
      "text/plain": [
       "None             0.562848\n",
       "bogo             0.182518\n",
       "discount         0.169599\n",
       "informational    0.085035\n",
       "Name: offer_type, dtype: float64"
      ]
     },
     "execution_count": 6,
     "metadata": {},
     "output_type": "execute_result"
    }
   ],
   "source": [
    "merged['offer_type'].fillna('None', inplace=True)\n",
    "merged['amount'].fillna('None', inplace=True)\n",
    "merged['offer_type'].value_counts(normalize=True)"
   ]
  },
  {
   "cell_type": "code",
   "execution_count": 10,
   "metadata": {},
   "outputs": [
    {
     "data": {
      "text/plain": [
       "<matplotlib.axes._subplots.AxesSubplot at 0x7f6e97e7d8d0>"
      ]
     },
     "execution_count": 10,
     "metadata": {},
     "output_type": "execute_result"
    },
    {
     "data": {
      "image/png": "[encoded data removed]",
      "text/plain": [
       "<Figure size 432x288 with 1 Axes>"
      ]
     },
     "metadata": {
      "needs_background": "light"
     },
     "output_type": "display_data"
    }
   ],
   "source": [
    "import seaborn as sns\n",
    "sns.countplot(x='offer_type', data=merged)"
   ]
  },
  {
   "cell_type": "markdown",
   "metadata": {},
   "source": [
    "## Solution Statement"
   ]
  },
  {
   "cell_type": "markdown",
   "metadata": {},
   "source": [
    "A solution I propose would be to apply a Classification Machine Learning model after thorough analysis on demography data and transactions to determine if a user would respond to a particular offer or not.\n",
    "\n",
    "With the information that there are 4 offers:\n",
    "\n",
    "* Bogo\n",
    "* Informational\n",
    "* Discount\n",
    "* None\n",
    "\n",
    "This makes our model a multi-label classification model which would be useful in determine which of the offers (classes) listed above that a potential consumer would respond best to.\n",
    "\n",
    "With the knowledge that some consumers do not purchase an item with an offer in mind, they do not need to recieve any offer, is the reason why **None** is also listed as a class.\n"
   ]
  },
  {
   "cell_type": "markdown",
   "metadata": {},
   "source": [
    "## Benchmark Model"
   ]
  },
  {
   "cell_type": "markdown",
   "metadata": {},
   "source": [
    "A benchmark model I would use would be the Naive Bayes Classifier.\n",
    "\n",
    "The naiva bayes classification algorithm is a simplified assumption which tries to establish simple heuristics based on the data, which also requires small amount of training data to estimate the neccessary parameters.\n",
    "In spite of their apparently over-simplified assumptions, naive Bayes classifiers have worked quite well in many real-world situations, famously document classification and spam filtering. [4]\n",
    "\n",
    "Since this solution entails solving as a multiclass classification problem, and this model is pretty simple, this would be a good benchmark model to evaluate against."
   ]
  },
  {
   "cell_type": "markdown",
   "metadata": {},
   "source": [
    "## Evaluation Metrics"
   ]
  },
  {
   "cell_type": "markdown",
   "metadata": {},
   "source": [
    "An evaluation metric that would be used on this problem would be the F1-score, specifically the Macro F1 metric [2]\n",
    "\n",
    "\n",
    "\n"
   ]
  },
  {
   "cell_type": "markdown",
   "metadata": {},
   "source": [
    "## Project Design"
   ]
  },
  {
   "cell_type": "markdown",
   "metadata": {},
   "source": [
    "#### Data Preparation\n",
    "I would proceed to merge datasets together, `transcript.json` with both the `porfolio.json` and `profile.json`, as this all hold data that describe entities describe in the transcript.\n",
    "\n",
    "#### Data Analysis / Visualizations \n",
    "This step would involve data analysis to determine what features are useful for determining what offer a consumer best responds.\n",
    "The data would be analyzed and visualizations constructed to carefully understand what data is inconsistent and where work could be done to handle imbalance.\n",
    "\n",
    "Handling missing values, using methods such as Imputation or simply dropping them, depending on the percieved effect this could have on the final solution.\n",
    "\n",
    "Looking at the classes we are trying to predict, we can already see that there is some level of imbalance, a possible approach to solving this could be [3] \n",
    "1. Using more evaluation metrics other than F1 such as AUC/ROC\n",
    "2. Resampling this dataset.\n",
    "3. SMOTING - Generating synthetic samples\n",
    "4. Trying different algorithms to determine what performs best.\n",
    "\n",
    "Using the methods suggested above, class imbalance can be handled.\n",
    "\n",
    "#### Model Selection\n",
    "N.B while it is not very important to construct a model once thorough data analysis has been done, I suggest doing this to enable prediction of what a class a consumer would be in.\n",
    "\n",
    "Using a Classification Model that would be trained on the data we will build a multi-category classifier that would be able to identify which offers consumers would respond to best.\n",
    "\n",
    "Since there are 4 classes we are checking for which seems to be well distributed except for the \n",
    "\n",
    "```\n",
    "None             56,2848\n",
    "bogo             18.2518\n",
    "discount         16.9599\n",
    "informational    8.5035\n",
    "```\n",
    "\n",
    "A (Random Forest)[4] would be used in this problem as this is a very useful ensemble algorithm.\n",
    "This classification model would be used to predict which offer a demographic would best respond to.\n",
    "\n",
    "\n",
    "#### Testing & Evaluation\n",
    "Using a testing set (and validation set) which was kept aside during the model selection and building process to test the model, and using the evaluation metric I indicated above - F1 Score, I would proceed to check how best this model performed, while also comparing to the baseline model I have indicated, as this must outperform the baseline model.\n",
    "\n",
    "#### Hyperparameter Tuning\n",
    "In an effort to produce the best results, hyperparameters are to be tuned to ensure the model performs as best as it should on the provided dataset, and on a testing set.\n"
   ]
  },
  {
   "cell_type": "markdown",
   "metadata": {},
   "source": [
    "## References"
   ]
  },
  {
   "cell_type": "markdown",
   "metadata": {},
   "source": [
    "1. Wikipedia (F1 Score)\n",
    "\n",
    "https://en.wikipedia.org/wiki/F1_score\n",
    "\n",
    "2. Macro F1\n",
    "\n",
    "https://arxiv.org/abs/1911.03347\n",
    "\n",
    "3. Handling Imbalanced Datasets.\n",
    "\n",
    "https://machinelearningmastery.com/tactics-to-combat-imbalanced-classes-in-your-machine-learning-dataset/\n",
    "\n",
    "3. Random Forest\n",
    "\n",
    "https://scikit-learn.org/stable/modules/generated/sklearn.ensemble.RandomForestClassifier.html#sklearn.ensemble.RandomForestClassifier\n",
    "\n",
    "4. Naive Bayes\n",
    "https://scikit-learn.org/stable/modules/naive_bayes.html"
   ]
  }
 ],
 "metadata": {
  "kernelspec": {
   "display_name": "Python [conda env:root] *",
   "language": "python",
   "name": "conda-root-py"
  },
  "language_info": {
   "codemirror_mode": {
    "name": "ipython",
    "version": 3
   },
   "file_extension": ".py",
   "mimetype": "text/x-python",
   "name": "python",
   "nbconvert_exporter": "python",
   "pygments_lexer": "ipython3",
   "version": "3.7.3"
  }
 },
 "nbformat": 4,
 "nbformat_minor": 2
}
